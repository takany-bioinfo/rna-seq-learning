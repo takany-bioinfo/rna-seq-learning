{
  "cells": [
    {
      "cell_type": "markdown",
      "metadata": {
        "id": "l3m0STYsnkYm"
      },
      "source": [
        "#### 【NGS解析】Arabidopsis RNA-Seq データの DGE解析に向けた前処理   <br>&nbsp; RNAseq_02  : Partially Streamlined Pipeline"
      ]
    },
    {
      "cell_type": "markdown",
      "metadata": {
        "id": "JbV9AAsknkYn"
      },
      "source": [
        "---\n",
        "<small>このノートブックはGoogle Colab上で動かすことを想定しています。  \n",
        "・Arabidopsis thaliana のsingle-end RNA-Seq データを使用した、DGE解析に向けたデータの前処理です。  \n",
        "・Google Drive フォルダに次のファイルが入れてある前提です。    \n",
        "&nbsp;&nbsp; &nbsp;&nbsp;accession_list.txt, at_index*.ht2 , araport11.gtf  \n",
        "※詳細はReadmeに記載しています。  </small>\n",
        "\n",
        "---\n"
      ]
    },
    {
      "cell_type": "markdown",
      "source": [
        "■ 初期設定：Google Drive をマウント"
      ],
      "metadata": {
        "id": "AXb3EK14rEY1"
      }
    },
    {
      "cell_type": "code",
      "source": [
        "from google.colab import drive\n",
        "drive.mount(\"/content/drive/\")"
      ],
      "metadata": {
        "id": "A87SFlNlotuL"
      },
      "execution_count": null,
      "outputs": []
    },
    {
      "cell_type": "markdown",
      "metadata": {
        "id": "PnqwQKRK9ti9"
      },
      "source": [
        "■ 初期設定：Micromambaをインストール"
      ]
    },
    {
      "cell_type": "code",
      "source": [
        "!curl -Ls https://micro.mamba.pm/api/micromamba/linux-64/latest | tar -xvj -C /root/ --strip-components=1"
      ],
      "metadata": {
        "id": "spa_4rR7yNhz"
      },
      "execution_count": null,
      "outputs": []
    },
    {
      "cell_type": "code",
      "source": [
        "import os\n",
        "os.environ[\"PATH\"] = os.path.abspath(\"/root\") + os.pathsep + os.environ[\"PATH\"] # 環境変数に/root/を追加"
      ],
      "metadata": {
        "id": "9K0frutFb6D-"
      },
      "execution_count": null,
      "outputs": []
    },
    {
      "cell_type": "code",
      "source": [
        "!micromamba create -y -n ngs  # NGS用の仮想環境を作成"
      ],
      "metadata": {
        "id": "7J6QYSJAcGft"
      },
      "execution_count": null,
      "outputs": []
    },
    {
      "cell_type": "code",
      "source": [
        "os.environ[\"PATH\"] = os.path.abspath(\"/root/.local/share/mamba/envs/ngs/bin\") + os.pathsep + os.environ[\"PATH\"]  # 環境変数にパスを追加"
      ],
      "metadata": {
        "id": "gg7Lz2KYcsz9"
      },
      "execution_count": null,
      "outputs": []
    },
    {
      "cell_type": "code",
      "source": [
        "!micromamba install -y -q -n ngs -c conda-forge -c bioconda  sra-tools fastqc fastp hisat2 samtools subread"
      ],
      "metadata": {
        "id": "tziTaRMpgyPg"
      },
      "execution_count": null,
      "outputs": []
    },
    {
      "cell_type": "markdown",
      "source": [
        "■  SRA取得 → ダンプ → トリミング → マッピング → バイナリ変換 >>> 定量化  \n",
        "　 prefetch → fasterq-dump → fastp → hisat2 → samtools view >>> featureCounts\n"
      ],
      "metadata": {
        "id": "99y1cTV3Fs4A"
      }
    },
    {
      "cell_type": "code",
      "source": [
        "%%bash\n",
        "set -e\n",
        "set -o pipefail\n",
        "\n",
        "drive_path=\"/content/drive/MyDrive/ngs_analysis/rna-seq_02\"\n",
        "common_ref=\"/content/drive/MyDrive/ngs_analysis/common_ref\"\n",
        "\n",
        "while read file; do\n",
        "    echo \"------------------------------------------------------------\"\n",
        "    echo \"<<< Start processing for ${file} >>> \"\n",
        "\n",
        "    echo \"### [PREFETCH ] : ${file} ###\"\n",
        "    prefetch \"${file}\" -O /content/\n",
        "\n",
        "    echo \"### [FASTQ-DUMP] : ${file} ###\"\n",
        "    fasterq-dump /content/\"${file}\" -O /content/\n",
        "\n",
        "    echo \"### [ FASTQC ] :  ${file} ###\"\n",
        "    fastqc /content/\"${file}.fastq\"\n",
        "\n",
        "    echo \"### [ FASTP ] : ${file} ###\"\n",
        "    fastp -i /content/\"${file}.fastq\" \\\n",
        "            -o /content/\"${file}_cleaned.fastq\" \\\n",
        "            --trim_poly_g \\\n",
        "            --trim_poly_x \\\n",
        "            --length_required 20 \\\n",
        "            -h /content/\"${file}.html\"\n",
        "\n",
        "    echo \"### [ HISAT2 ] : ${file} ,  [SAM→BAM→ sorting] ###\"\n",
        "    hisat2 -x ${common_ref}/at_index \\\n",
        "           -U /content/\"${file}_cleaned.fastq\" \\\n",
        "           -p 2 \\\n",
        "           --phred33 | \\\n",
        "     samtools view -b  | \\\n",
        "     samtools sort -@ 2  -o /content/\"${file}.bam\"   # for genome browser visualization\n",
        "\n",
        "\n",
        "     echo \"### [BAM Indexing] : ${file} ###\"\n",
        "     samtools index /content/\"${file}.bam\"  # for genome browser visualization\n",
        "\n",
        "     echo \"<<< Completed processing for ${file} >>>\"\n",
        "     echo \"------------------------------------------------------------\"\n",
        "\n",
        "done < ${drive_path}/accession_list.txt\n",
        "\n",
        "echo \"### [featureCounts] ###\"\n",
        "featureCounts  -T 2 \\\n",
        "            -t exon \\\n",
        "            -g gene_id \\\n",
        "            -a ${common_ref}/araport11.gtf \\\n",
        "            -o counts.txt \\\n",
        "              /content/*.bam\n",
        "\n",
        "cp /content/counts.txt  ${drive_path}   # Save read count file to Google Drive\n",
        "cp /content/counts.txt.summary  ${drive_path}\n",
        "\n",
        "echo \"### Count file saved ###\"\n",
        "\n",
        "cp /content/*.bai ${drive_path}   # Copy BAM indices if genome browser visualization is intended\n",
        "cp /content/*.bam ${drive_path} # Copy BAM files  if genome browser visualization is intended\n",
        "cp /content/*.html ${drive_path} # Copy FastQC and Fastp reports to assess FASTQ quality before and after trimming\n"
      ],
      "metadata": {
        "id": "89TRQIr-Z0J3"
      },
      "execution_count": null,
      "outputs": []
    },
    {
      "cell_type": "markdown",
      "source": [
        "🔚このNotebookはここまで  <br>\n",
        "&nbsp;&nbsp; &nbsp;&nbsp;作成したカウントマトリックス（counts.txt）を用いてDGE解析に進みます。  \n",
        "\n",
        "\n",
        "\n",
        "---\n",
        "\n"
      ],
      "metadata": {
        "id": "AVDYQgFk2yhW"
      }
    }
  ],
  "metadata": {
    "colab": {
      "provenance": []
    },
    "kernelspec": {
      "display_name": "Python 3 (ipykernel)",
      "language": "python",
      "name": "python3"
    },
    "language_info": {
      "codemirror_mode": {
        "name": "ipython",
        "version": 3
      },
      "file_extension": ".py",
      "mimetype": "text/x-python",
      "name": "python",
      "nbconvert_exporter": "python",
      "pygments_lexer": "ipython3",
      "version": "3.11.7"
    }
  },
  "nbformat": 4,
  "nbformat_minor": 0
}